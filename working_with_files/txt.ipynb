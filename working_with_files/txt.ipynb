{
 "cells": [
  {
   "cell_type": "code",
   "execution_count": 4,
   "id": "beeaf185-c269-450c-8142-660807bf544f",
   "metadata": {},
   "outputs": [
    {
     "name": "stdout",
     "output_type": "stream",
     "text": [
      "example of txt file\n"
     ]
    }
   ],
   "source": [
    "with open('./dados_txt/file_1.txt', 'r') as arquivo_txt:\n",
    "    content = arquivo_txt.read();\n",
    "    print(content)"
   ]
  },
  {
   "cell_type": "code",
   "execution_count": 9,
   "id": "deb63279-0b70-4d15-88fd-3109d6520e3d",
   "metadata": {},
   "outputs": [
    {
     "name": "stdout",
     "output_type": "stream",
     "text": [
      "python\n",
      "is\n",
      "awesome\n"
     ]
    }
   ],
   "source": [
    "with open('./dados_txt/file_2.txt', 'r') as arquivo_multi:\n",
    "    content = arquivo_multi.read().splitlines()\n",
    "    for txt in content:\n",
    "        print(txt)"
   ]
  },
  {
   "cell_type": "code",
   "execution_count": 11,
   "id": "9549cad2-f052-414a-aa18-84357aa205e3",
   "metadata": {},
   "outputs": [],
   "source": [
    "with open('./dados_txt/file_3.txt', 'w') as newfile:\n",
    "    newfile.write('Hello Word! \\nOlá mundo!')"
   ]
  }
 ],
 "metadata": {
  "kernelspec": {
   "display_name": "Python 3 (ipykernel)",
   "language": "python",
   "name": "python3"
  },
  "language_info": {
   "codemirror_mode": {
    "name": "ipython",
    "version": 3
   },
   "file_extension": ".py",
   "mimetype": "text/x-python",
   "name": "python",
   "nbconvert_exporter": "python",
   "pygments_lexer": "ipython3",
   "version": "3.11.6"
  }
 },
 "nbformat": 4,
 "nbformat_minor": 5
}
