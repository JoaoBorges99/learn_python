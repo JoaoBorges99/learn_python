{
 "cells": [
  {
   "cell_type": "code",
   "execution_count": 2,
   "id": "971157c4-8c4a-418e-810c-777987721695",
   "metadata": {},
   "outputs": [],
   "source": [
    "import csv"
   ]
  },
  {
   "cell_type": "code",
   "execution_count": null,
   "id": "a572d421-9aed-4830-9762-aa0698bec0f8",
   "metadata": {},
   "outputs": [],
   "source": [
    "with open('./dados_csv/file_1.csv', 'r') as arquivo_csv:\n",
    "    dados = csv.DictReader(arquivo_csv, delimiter = ',')\n",
    "    for linha in dados:\n",
    "        print(f'valor: {linha}')"
   ]
  },
  {
   "cell_type": "code",
   "execution_count": 8,
   "id": "fdc9f1ef-f5ec-4a8f-aaab-7c77ee436785",
   "metadata": {},
   "outputs": [],
   "source": [
    "dados_paises = [\n",
    "    ['name', 'area', 'country_code2', 'country_code3'],\n",
    "    ['Albania', 28748, 'AL', 'ALB'],\n",
    "    ['Argeria', 2381741,'DZ','DZA'],\n",
    "]"
   ]
  },
  {
   "cell_type": "code",
   "execution_count": 11,
   "id": "ed2f553c-a174-461b-811b-34f5768a1a08",
   "metadata": {},
   "outputs": [],
   "source": [
    "with open('./dados_csv/file_2.csv', 'w', encoding='UTF8') as arquivo_paises:\n",
    "    write = csv.writer(arquivo_paises)\n",
    "    write.writerows(dados_paises)"
   ]
  }
 ],
 "metadata": {
  "kernelspec": {
   "display_name": "Python 3 (ipykernel)",
   "language": "python",
   "name": "python3"
  },
  "language_info": {
   "codemirror_mode": {
    "name": "ipython",
    "version": 3
   },
   "file_extension": ".py",
   "mimetype": "text/x-python",
   "name": "python",
   "nbconvert_exporter": "python",
   "pygments_lexer": "ipython3",
   "version": "3.11.6"
  }
 },
 "nbformat": 4,
 "nbformat_minor": 5
}
