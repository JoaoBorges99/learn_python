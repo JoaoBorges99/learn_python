{
 "cells": [
  {
   "cell_type": "code",
   "execution_count": 1,
   "id": "b4ce76b0-3918-492e-b823-b3f16378541e",
   "metadata": {},
   "outputs": [
    {
     "name": "stdout",
     "output_type": "stream",
     "text": [
      "Requirement already satisfied: pyyaml in /opt/conda/lib/python3.11/site-packages (6.0.1)\n"
     ]
    }
   ],
   "source": [
    "# yaml or yml\n",
    "!pip install pyyaml"
   ]
  },
  {
   "cell_type": "code",
   "execution_count": 3,
   "id": "a3679599-0913-4c36-ab25-c846a4e3182e",
   "metadata": {},
   "outputs": [],
   "source": [
    "import yaml"
   ]
  },
  {
   "cell_type": "code",
   "execution_count": 19,
   "id": "1d732453-5749-4955-8f22-f75d33a3f043",
   "metadata": {},
   "outputs": [
    {
     "name": "stdout",
     "output_type": "stream",
     "text": [
      "{'computador': {'monitor': 'LG-21\"', 'memoria': {'ram': '16gb'}, 'disco': {'ssd': '256gb', 'hdd': '1tb'}, 'cpu': {'model': 'ryzen 5600x'}}}\n"
     ]
    }
   ],
   "source": [
    "with open('./dados_yaml/file_1.yaml', 'r') as file:\n",
    "    try:\n",
    "        dados = yaml.load(file, Loader=yaml.FullLoader)\n",
    "        print(dados)\n",
    "    except Exception as erro:\n",
    "        print(f\"error: {erro}\")"
   ]
  },
  {
   "cell_type": "code",
   "execution_count": 21,
   "id": "50e7d6c7-ea81-45af-9227-9a56b7dab078",
   "metadata": {},
   "outputs": [],
   "source": [
    "dados = {\n",
    "    'list': [1, 42, 3.141, 1337, 'help'],\n",
    "    'string': 'bla',\n",
    "    'dict': {\n",
    "        'foo': 'bar',\n",
    "        'key': 'value',\n",
    "        'bar': 50\n",
    "    }\n",
    "}"
   ]
  },
  {
   "cell_type": "code",
   "execution_count": 22,
   "id": "0573ab30-045d-4cdb-853d-5c5c54e12123",
   "metadata": {},
   "outputs": [],
   "source": [
    "with open('./dados_yaml/novo_arquivo.yaml', 'w') as file:\n",
    "    yaml.dump(dados, file)"
   ]
  }
 ],
 "metadata": {
  "kernelspec": {
   "display_name": "Python 3 (ipykernel)",
   "language": "python",
   "name": "python3"
  },
  "language_info": {
   "codemirror_mode": {
    "name": "ipython",
    "version": 3
   },
   "file_extension": ".py",
   "mimetype": "text/x-python",
   "name": "python",
   "nbconvert_exporter": "python",
   "pygments_lexer": "ipython3",
   "version": "3.11.6"
  }
 },
 "nbformat": 4,
 "nbformat_minor": 5
}
