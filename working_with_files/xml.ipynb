{
 "cells": [
  {
   "cell_type": "code",
   "execution_count": 11,
   "id": "71601fde-296a-4ddb-a861-d658288e5454",
   "metadata": {},
   "outputs": [
    {
     "name": "stdout",
     "output_type": "stream",
     "text": [
      "Requirement already satisfied: dicttoxml in /opt/conda/lib/python3.11/site-packages (1.7.16)\n"
     ]
    }
   ],
   "source": [
    "!pip install dicttoxml\n",
    "import xml.etree.ElementTree as ET\n",
    "import dicttoxml"
   ]
  },
  {
   "cell_type": "code",
   "execution_count": 3,
   "id": "f4933032-ab7f-4c13-b1a6-821e53ab45dc",
   "metadata": {},
   "outputs": [],
   "source": [
    "arvore = ET.parse('./dados_xml/file_1.xml')"
   ]
  },
  {
   "cell_type": "code",
   "execution_count": 5,
   "id": "b66a7986-b765-4e9d-88d3-28d8ba282fa3",
   "metadata": {},
   "outputs": [],
   "source": [
    "raiz = arvore.getroot()"
   ]
  },
  {
   "cell_type": "code",
   "execution_count": 6,
   "id": "69efef01-7322-4cc8-b76d-847106d184c3",
   "metadata": {},
   "outputs": [
    {
     "name": "stdout",
     "output_type": "stream",
     "text": [
      "{'name': 'item1'}\n",
      "item1abc\n",
      "{'name': 'item2'}\n",
      "item2abc\n"
     ]
    }
   ],
   "source": [
    "for element in raiz:\n",
    "    for sub_element in element.findall('item'):\n",
    "        print(sub_element.attrib)\n",
    "        print(sub_element.text)"
   ]
  },
  {
   "cell_type": "code",
   "execution_count": 13,
   "id": "7b49abf1-b8d8-4cc4-a7f1-eeea1a04af4a",
   "metadata": {},
   "outputs": [],
   "source": [
    "novo_piloto = {\n",
    "    'name' : 'João Victor',\n",
    "    'team' : 'ReadBull Racing',\n",
    "    'nationality' : 'Russian'\n",
    "}"
   ]
  },
  {
   "cell_type": "code",
   "execution_count": 14,
   "id": "ce28032f-cdc8-4519-af8f-6f568784d94f",
   "metadata": {},
   "outputs": [],
   "source": [
    "xml = dicttoxml.dicttoxml(novo_piloto)"
   ]
  },
  {
   "cell_type": "code",
   "execution_count": 17,
   "id": "e396bc21-0e99-45b8-848e-edd491a4f8d8",
   "metadata": {},
   "outputs": [],
   "source": [
    "with open('./dados_xml/novo_piloto.xml', 'w') as f:\n",
    "    f.write(str(xml, 'utf-8'))"
   ]
  }
 ],
 "metadata": {
  "kernelspec": {
   "display_name": "Python 3 (ipykernel)",
   "language": "python",
   "name": "python3"
  },
  "language_info": {
   "codemirror_mode": {
    "name": "ipython",
    "version": 3
   },
   "file_extension": ".py",
   "mimetype": "text/x-python",
   "name": "python",
   "nbconvert_exporter": "python",
   "pygments_lexer": "ipython3",
   "version": "3.11.6"
  }
 },
 "nbformat": 4,
 "nbformat_minor": 5
}
