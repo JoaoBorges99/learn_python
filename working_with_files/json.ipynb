{
 "cells": [
  {
   "cell_type": "code",
   "execution_count": 1,
   "id": "94682bc6-bb9e-451f-bd91-2c282f055d6f",
   "metadata": {},
   "outputs": [],
   "source": [
    "import json"
   ]
  },
  {
   "cell_type": "code",
   "execution_count": 5,
   "id": "e89f76ec-b1f7-4140-b781-7e8bfa1eeb05",
   "metadata": {},
   "outputs": [],
   "source": [
    "with open('./dados_json/file_1.json') as arquivo_json:\n",
    "    dados = json.load(arquivo_json)"
   ]
  },
  {
   "cell_type": "code",
   "execution_count": 6,
   "id": "2d98422c-7989-42d5-9f4f-0f04e5ae9dfd",
   "metadata": {},
   "outputs": [
    {
     "data": {
      "text/plain": [
       "2023"
      ]
     },
     "execution_count": 6,
     "metadata": {},
     "output_type": "execute_result"
    }
   ],
   "source": [
    "dados.get('season')"
   ]
  },
  {
   "cell_type": "code",
   "execution_count": 8,
   "id": "5f47305e-c624-4b51-bb22-3f1efbd4de7b",
   "metadata": {},
   "outputs": [],
   "source": [
    "pilotos = dados.get('pilots')"
   ]
  },
  {
   "cell_type": "code",
   "execution_count": 12,
   "id": "d350643b-dd9a-49b1-aea3-bf766ed03160",
   "metadata": {},
   "outputs": [
    {
     "name": "stdout",
     "output_type": "stream",
     "text": [
      "Lewis Hamilton\n",
      "Mercedes\n",
      "British\n",
      "Max Verstappen\n",
      "Red Bull Racing\n",
      "Dutch\n",
      "Charles Leclerc\n",
      "Ferrari\n",
      "Monégasque\n"
     ]
    }
   ],
   "source": [
    "for pessoa in pilotos:\n",
    "    for chave,valor in pessoa.items():\n",
    "        print(valor)"
   ]
  },
  {
   "cell_type": "code",
   "execution_count": 14,
   "id": "04711c54-ba2e-4fff-b82d-2283c22187f9",
   "metadata": {},
   "outputs": [],
   "source": [
    "novo_piloto = {\n",
    "    'name' : 'João Victor',\n",
    "    'team' : 'ReadBull Racing',\n",
    "    'nationality' : 'Russian'\n",
    "}"
   ]
  },
  {
   "cell_type": "code",
   "execution_count": 18,
   "id": "32bd06d5-0a4c-4661-bf0d-c35a5050b719",
   "metadata": {},
   "outputs": [],
   "source": [
    "with open('./dados_json/novo_piloto.json', 'w', encoding='UTF8') as novo_json:\n",
    "    json.dump(novo_piloto, novo_json)"
   ]
  }
 ],
 "metadata": {
  "kernelspec": {
   "display_name": "Python 3 (ipykernel)",
   "language": "python",
   "name": "python3"
  },
  "language_info": {
   "codemirror_mode": {
    "name": "ipython",
    "version": 3
   },
   "file_extension": ".py",
   "mimetype": "text/x-python",
   "name": "python",
   "nbconvert_exporter": "python",
   "pygments_lexer": "ipython3",
   "version": "3.11.6"
  }
 },
 "nbformat": 4,
 "nbformat_minor": 5
}
