{
 "cells": [
  {
   "cell_type": "code",
   "execution_count": 1,
   "id": "202ffc8a-d5a2-4c83-921c-415547f238d9",
   "metadata": {},
   "outputs": [],
   "source": [
    "import zipfile"
   ]
  },
  {
   "cell_type": "code",
   "execution_count": 7,
   "id": "47a94e65-f49f-443c-bc33-e1d21de823ec",
   "metadata": {},
   "outputs": [],
   "source": [
    "try:\n",
    "    with zipfile.ZipFile('./dados_zip/files_1.zip') as zipp:\n",
    "        zipp.extractall('./dados_zip/unzip')\n",
    "except Exception as erro:\n",
    "    print (f\"error: {erro}\")"
   ]
  },
  {
   "cell_type": "code",
   "execution_count": 8,
   "id": "dbc3b5e1-b49a-4427-bb55-d7cdefce1166",
   "metadata": {},
   "outputs": [],
   "source": [
    "import shutil"
   ]
  },
  {
   "cell_type": "code",
   "execution_count": 9,
   "id": "bd296670-d645-463e-b2e5-8e3d8aa21572",
   "metadata": {},
   "outputs": [],
   "source": [
    "# destino, formato, pasta\n",
    "\n",
    "try:\n",
    "    shutil.make_archive('./dados_zip/pasta_zipada.zip', 'zip', './dados_zip/to_zip')\n",
    "except Exception as erro:\n",
    "    print(f\"error ao zipar: {erro}\")"
   ]
  }
 ],
 "metadata": {
  "kernelspec": {
   "display_name": "Python 3 (ipykernel)",
   "language": "python",
   "name": "python3"
  },
  "language_info": {
   "codemirror_mode": {
    "name": "ipython",
    "version": 3
   },
   "file_extension": ".py",
   "mimetype": "text/x-python",
   "name": "python",
   "nbconvert_exporter": "python",
   "pygments_lexer": "ipython3",
   "version": "3.11.6"
  }
 },
 "nbformat": 4,
 "nbformat_minor": 5
}
