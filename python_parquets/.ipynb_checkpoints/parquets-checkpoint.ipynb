{
 "cells": [
  {
   "cell_type": "code",
   "execution_count": 3,
   "id": "b7e8a67c-fe48-4390-84da-43dc6741838d",
   "metadata": {},
   "outputs": [
    {
     "name": "stdout",
     "output_type": "stream",
     "text": [
      "Requirement already satisfied: pyarrow in /opt/conda/lib/python3.11/site-packages (13.0.0)\n",
      "Requirement already satisfied: numpy>=1.16.6 in /opt/conda/lib/python3.11/site-packages (from pyarrow) (1.24.4)\n"
     ]
    }
   ],
   "source": [
    "!pip install pyarrow"
   ]
  },
  {
   "cell_type": "code",
   "execution_count": 1,
   "id": "6842b25a-01d5-477d-8686-3a2e3c944112",
   "metadata": {},
   "outputs": [],
   "source": [
    "import pandas as pd"
   ]
  },
  {
   "cell_type": "code",
   "execution_count": 2,
   "id": "1581ebc8-44de-4014-8042-54fe7e7a8e07",
   "metadata": {},
   "outputs": [],
   "source": [
    "import time"
   ]
  },
  {
   "cell_type": "code",
   "execution_count": 4,
   "id": "67d29a6b-a6d9-451d-912c-b6fa554dd4e3",
   "metadata": {},
   "outputs": [],
   "source": [
    "file = pd.read_csv('./data/organizations-100k.csv')"
   ]
  },
  {
   "cell_type": "code",
   "execution_count": 5,
   "id": "94a2fb35-a975-4328-ae70-ed8615a748fd",
   "metadata": {},
   "outputs": [
    {
     "data": {
      "text/html": [
       "<div>\n",
       "<style scoped>\n",
       "    .dataframe tbody tr th:only-of-type {\n",
       "        vertical-align: middle;\n",
       "    }\n",
       "\n",
       "    .dataframe tbody tr th {\n",
       "        vertical-align: top;\n",
       "    }\n",
       "\n",
       "    .dataframe thead th {\n",
       "        text-align: right;\n",
       "    }\n",
       "</style>\n",
       "<table border=\"1\" class=\"dataframe\">\n",
       "  <thead>\n",
       "    <tr style=\"text-align: right;\">\n",
       "      <th></th>\n",
       "      <th>Index</th>\n",
       "      <th>Organization Id</th>\n",
       "      <th>Name</th>\n",
       "      <th>Website</th>\n",
       "      <th>Country</th>\n",
       "      <th>Description</th>\n",
       "      <th>Founded</th>\n",
       "      <th>Industry</th>\n",
       "      <th>Number of employees</th>\n",
       "    </tr>\n",
       "  </thead>\n",
       "  <tbody>\n",
       "    <tr>\n",
       "      <th>0</th>\n",
       "      <td>1</td>\n",
       "      <td>8cC6B5992C0309c</td>\n",
       "      <td>Acevedo LLC</td>\n",
       "      <td>https://www.donovan.com/</td>\n",
       "      <td>Holy See (Vatican City State)</td>\n",
       "      <td>Multi-channeled bottom-line core</td>\n",
       "      <td>2019</td>\n",
       "      <td>Graphic Design / Web Design</td>\n",
       "      <td>7070</td>\n",
       "    </tr>\n",
       "    <tr>\n",
       "      <th>1</th>\n",
       "      <td>2</td>\n",
       "      <td>ec094061FeaF7Bc</td>\n",
       "      <td>Walls-Mcdonald</td>\n",
       "      <td>http://arias-willis.net/</td>\n",
       "      <td>Lithuania</td>\n",
       "      <td>Compatible encompassing groupware</td>\n",
       "      <td>2005</td>\n",
       "      <td>Utilities</td>\n",
       "      <td>8156</td>\n",
       "    </tr>\n",
       "    <tr>\n",
       "      <th>2</th>\n",
       "      <td>3</td>\n",
       "      <td>DAcC5dbc58946A7</td>\n",
       "      <td>Gregory PLC</td>\n",
       "      <td>http://www.lynch-hoover.net/</td>\n",
       "      <td>Tokelau</td>\n",
       "      <td>Multi-channeled intangible help-desk</td>\n",
       "      <td>2019</td>\n",
       "      <td>Leisure / Travel</td>\n",
       "      <td>6121</td>\n",
       "    </tr>\n",
       "    <tr>\n",
       "      <th>3</th>\n",
       "      <td>4</td>\n",
       "      <td>8Dd7beDa37FbeD0</td>\n",
       "      <td>Byrd, Patterson and Knox</td>\n",
       "      <td>https://www.james-velez.net/</td>\n",
       "      <td>Netherlands</td>\n",
       "      <td>Pre-emptive national function</td>\n",
       "      <td>1982</td>\n",
       "      <td>Furniture</td>\n",
       "      <td>3494</td>\n",
       "    </tr>\n",
       "    <tr>\n",
       "      <th>4</th>\n",
       "      <td>5</td>\n",
       "      <td>a3b5c54AEC163e4</td>\n",
       "      <td>Mcdowell-Hopkins</td>\n",
       "      <td>http://fuentes.com/</td>\n",
       "      <td>Mayotte</td>\n",
       "      <td>Cloned bifurcated solution</td>\n",
       "      <td>2016</td>\n",
       "      <td>Online Publishing</td>\n",
       "      <td>36</td>\n",
       "    </tr>\n",
       "  </tbody>\n",
       "</table>\n",
       "</div>"
      ],
      "text/plain": [
       "   Index  Organization Id                      Name  \\\n",
       "0      1  8cC6B5992C0309c               Acevedo LLC   \n",
       "1      2  ec094061FeaF7Bc            Walls-Mcdonald   \n",
       "2      3  DAcC5dbc58946A7               Gregory PLC   \n",
       "3      4  8Dd7beDa37FbeD0  Byrd, Patterson and Knox   \n",
       "4      5  a3b5c54AEC163e4          Mcdowell-Hopkins   \n",
       "\n",
       "                        Website                        Country  \\\n",
       "0      https://www.donovan.com/  Holy See (Vatican City State)   \n",
       "1      http://arias-willis.net/                      Lithuania   \n",
       "2  http://www.lynch-hoover.net/                        Tokelau   \n",
       "3  https://www.james-velez.net/                    Netherlands   \n",
       "4           http://fuentes.com/                        Mayotte   \n",
       "\n",
       "                            Description  Founded                     Industry  \\\n",
       "0      Multi-channeled bottom-line core     2019  Graphic Design / Web Design   \n",
       "1     Compatible encompassing groupware     2005                    Utilities   \n",
       "2  Multi-channeled intangible help-desk     2019             Leisure / Travel   \n",
       "3         Pre-emptive national function     1982                    Furniture   \n",
       "4            Cloned bifurcated solution     2016            Online Publishing   \n",
       "\n",
       "   Number of employees  \n",
       "0                 7070  \n",
       "1                 8156  \n",
       "2                 6121  \n",
       "3                 3494  \n",
       "4                   36  "
      ]
     },
     "execution_count": 5,
     "metadata": {},
     "output_type": "execute_result"
    }
   ],
   "source": [
    "file.head()"
   ]
  },
  {
   "cell_type": "code",
   "execution_count": 12,
   "id": "a7bdbd0a-16a6-42a2-881c-170b89e8b74a",
   "metadata": {},
   "outputs": [],
   "source": [
    "file.to_parquet('./data/raw/organizations/organizations.parquet')"
   ]
  }
 ],
 "metadata": {
  "kernelspec": {
   "display_name": "Python 3 (ipykernel)",
   "language": "python",
   "name": "python3"
  },
  "language_info": {
   "codemirror_mode": {
    "name": "ipython",
    "version": 3
   },
   "file_extension": ".py",
   "mimetype": "text/x-python",
   "name": "python",
   "nbconvert_exporter": "python",
   "pygments_lexer": "ipython3",
   "version": "3.11.6"
  }
 },
 "nbformat": 4,
 "nbformat_minor": 5
}
