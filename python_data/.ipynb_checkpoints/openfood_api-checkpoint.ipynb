{
 "cells": [
  {
   "cell_type": "code",
   "execution_count": 4,
   "id": "f2108365-0f18-40a1-a1b3-8f6593917b5a",
   "metadata": {},
   "outputs": [],
   "source": [
    "import pandas as pd\n",
    "import requests\n",
    "from datetime import datetime as dt"
   ]
  },
  {
   "cell_type": "code",
   "execution_count": 5,
   "id": "459a2fdd-d27a-4187-8260-165243d304dd",
   "metadata": {},
   "outputs": [],
   "source": [
    "url = \"https://world.openfoodfacts.net/api/v2/product/\"\n",
    "prod = \"7891000369371\""
   ]
  },
  {
   "cell_type": "code",
   "execution_count": 15,
   "id": "2365ebce-9dbb-4a06-ba93-c972741ca173",
   "metadata": {},
   "outputs": [],
   "source": [
    "api_get = requests.get(f\"{url}{prod}\")\n",
    "status_code = api_get.status_code"
   ]
  },
  {
   "cell_type": "code",
   "execution_count": 16,
   "id": "7d801631-aeed-4c0d-9a5e-1eaf07dc531f",
   "metadata": {},
   "outputs": [],
   "source": [
    "content = {}\n",
    "if status_code == 200:\n",
    "    content = api_get.json()\n",
    "else:\n",
    "    print(f\"Erro de api, codigo {status_code}\")"
   ]
  },
  {
   "cell_type": "code",
   "execution_count": 18,
   "id": "7de65833-3e4b-43a1-8549-3b6b5255edff",
   "metadata": {},
   "outputs": [],
   "source": [
    "df = pd.json_normalize(content.get('product'))"
   ]
  },
  {
   "cell_type": "code",
   "execution_count": 19,
   "id": "a850893c-b8ec-4a48-902c-4cf9ad3df262",
   "metadata": {},
   "outputs": [
    {
     "data": {
      "text/html": [
       "<div>\n",
       "<style scoped>\n",
       "    .dataframe tbody tr th:only-of-type {\n",
       "        vertical-align: middle;\n",
       "    }\n",
       "\n",
       "    .dataframe tbody tr th {\n",
       "        vertical-align: top;\n",
       "    }\n",
       "\n",
       "    .dataframe thead th {\n",
       "        text-align: right;\n",
       "    }\n",
       "</style>\n",
       "<table border=\"1\" class=\"dataframe\">\n",
       "  <thead>\n",
       "    <tr style=\"text-align: right;\">\n",
       "      <th></th>\n",
       "      <th>_id</th>\n",
       "      <th>_keywords</th>\n",
       "      <th>added_countries_tags</th>\n",
       "      <th>allergens</th>\n",
       "      <th>allergens_from_ingredients</th>\n",
       "      <th>allergens_from_user</th>\n",
       "      <th>allergens_hierarchy</th>\n",
       "      <th>allergens_tags</th>\n",
       "      <th>brands</th>\n",
       "      <th>brands_tags</th>\n",
       "      <th>...</th>\n",
       "      <th>nutriscore.2023.grade</th>\n",
       "      <th>nutriscore.2023.nutrients_available</th>\n",
       "      <th>nutriscore.2023.nutriscore_applicable</th>\n",
       "      <th>nutriscore.2023.nutriscore_computed</th>\n",
       "      <th>selected_images.front.display.es</th>\n",
       "      <th>selected_images.front.display.pt</th>\n",
       "      <th>selected_images.front.small.es</th>\n",
       "      <th>selected_images.front.small.pt</th>\n",
       "      <th>selected_images.front.thumb.es</th>\n",
       "      <th>selected_images.front.thumb.pt</th>\n",
       "    </tr>\n",
       "  </thead>\n",
       "  <tbody>\n",
       "    <tr>\n",
       "      <th>0</th>\n",
       "      <td>7891000369371</td>\n",
       "      <td>[80g, ao, chocolate, crunch, leite, pacote]</td>\n",
       "      <td>[]</td>\n",
       "      <td></td>\n",
       "      <td></td>\n",
       "      <td>(pt)</td>\n",
       "      <td>[]</td>\n",
       "      <td>[]</td>\n",
       "      <td>CRUNCH</td>\n",
       "      <td>[crunch]</td>\n",
       "      <td>...</td>\n",
       "      <td>unknown</td>\n",
       "      <td>1</td>\n",
       "      <td>0</td>\n",
       "      <td>0</td>\n",
       "      <td>https://images.openfoodfacts.net/images/produc...</td>\n",
       "      <td>https://images.openfoodfacts.net/images/produc...</td>\n",
       "      <td>https://images.openfoodfacts.net/images/produc...</td>\n",
       "      <td>https://images.openfoodfacts.net/images/produc...</td>\n",
       "      <td>https://images.openfoodfacts.net/images/produc...</td>\n",
       "      <td>https://images.openfoodfacts.net/images/produc...</td>\n",
       "    </tr>\n",
       "  </tbody>\n",
       "</table>\n",
       "<p>1 rows × 487 columns</p>\n",
       "</div>"
      ],
      "text/plain": [
       "             _id                                    _keywords  \\\n",
       "0  7891000369371  [80g, ao, chocolate, crunch, leite, pacote]   \n",
       "\n",
       "  added_countries_tags allergens allergens_from_ingredients  \\\n",
       "0                   []                                        \n",
       "\n",
       "  allergens_from_user allergens_hierarchy allergens_tags  brands brands_tags  \\\n",
       "0               (pt)                   []             []  CRUNCH    [crunch]   \n",
       "\n",
       "   ... nutriscore.2023.grade nutriscore.2023.nutrients_available  \\\n",
       "0  ...               unknown                                   1   \n",
       "\n",
       "  nutriscore.2023.nutriscore_applicable nutriscore.2023.nutriscore_computed  \\\n",
       "0                                     0                                   0   \n",
       "\n",
       "                    selected_images.front.display.es  \\\n",
       "0  https://images.openfoodfacts.net/images/produc...   \n",
       "\n",
       "                    selected_images.front.display.pt  \\\n",
       "0  https://images.openfoodfacts.net/images/produc...   \n",
       "\n",
       "                      selected_images.front.small.es  \\\n",
       "0  https://images.openfoodfacts.net/images/produc...   \n",
       "\n",
       "                      selected_images.front.small.pt  \\\n",
       "0  https://images.openfoodfacts.net/images/produc...   \n",
       "\n",
       "                      selected_images.front.thumb.es  \\\n",
       "0  https://images.openfoodfacts.net/images/produc...   \n",
       "\n",
       "                      selected_images.front.thumb.pt  \n",
       "0  https://images.openfoodfacts.net/images/produc...  \n",
       "\n",
       "[1 rows x 487 columns]"
      ]
     },
     "execution_count": 19,
     "metadata": {},
     "output_type": "execute_result"
    }
   ],
   "source": [
    "df"
   ]
  },
  {
   "cell_type": "code",
   "execution_count": 20,
   "id": "36d6abee-2359-4d3b-a1c3-d4b8d8445f10",
   "metadata": {},
   "outputs": [],
   "source": [
    "df_cols = df[['code', 'product_name', 'image_front_url', 'last_modified_t']].copy()"
   ]
  },
  {
   "cell_type": "code",
   "execution_count": 21,
   "id": "a32d0d3f-6382-4d2c-b314-b5fa968ea5f6",
   "metadata": {},
   "outputs": [
    {
     "data": {
      "text/html": [
       "<div>\n",
       "<style scoped>\n",
       "    .dataframe tbody tr th:only-of-type {\n",
       "        vertical-align: middle;\n",
       "    }\n",
       "\n",
       "    .dataframe tbody tr th {\n",
       "        vertical-align: top;\n",
       "    }\n",
       "\n",
       "    .dataframe thead th {\n",
       "        text-align: right;\n",
       "    }\n",
       "</style>\n",
       "<table border=\"1\" class=\"dataframe\">\n",
       "  <thead>\n",
       "    <tr style=\"text-align: right;\">\n",
       "      <th></th>\n",
       "      <th>code</th>\n",
       "      <th>product_name</th>\n",
       "      <th>image_front_url</th>\n",
       "      <th>last_modified_t</th>\n",
       "    </tr>\n",
       "  </thead>\n",
       "  <tbody>\n",
       "    <tr>\n",
       "      <th>0</th>\n",
       "      <td>7891000369371</td>\n",
       "      <td>Chocolate Ao Leite Crunch Pacote 80g</td>\n",
       "      <td>https://images.openfoodfacts.net/images/produc...</td>\n",
       "      <td>1720212249</td>\n",
       "    </tr>\n",
       "  </tbody>\n",
       "</table>\n",
       "</div>"
      ],
      "text/plain": [
       "            code                          product_name  \\\n",
       "0  7891000369371  Chocolate Ao Leite Crunch Pacote 80g   \n",
       "\n",
       "                                     image_front_url  last_modified_t  \n",
       "0  https://images.openfoodfacts.net/images/produc...       1720212249  "
      ]
     },
     "execution_count": 21,
     "metadata": {},
     "output_type": "execute_result"
    }
   ],
   "source": [
    "df_cols"
   ]
  },
  {
   "cell_type": "code",
   "execution_count": 32,
   "id": "0ee03df9-76a6-43c3-ae13-c5dcc7faad87",
   "metadata": {},
   "outputs": [],
   "source": [
    "df_cols['last_modified_t'] = pd.to_datetime(df_cols['last_modified_t'], unit='s')\n",
    "df_rename = df_cols.rename(columns = {'product_name' : 'product', 'last_modified_t' : 'last_modified'}).copy()"
   ]
  },
  {
   "cell_type": "code",
   "execution_count": 33,
   "id": "57e7b532-5ec6-4ca8-8630-708c68ce9cec",
   "metadata": {},
   "outputs": [],
   "source": [
    "df_rename.to_csv('./data/raw/csv/open_food_product.csv', index=False)"
   ]
  },
  {
   "cell_type": "code",
   "execution_count": null,
   "id": "256ad247-a9d8-421e-bc9d-05c33d31210d",
   "metadata": {},
   "outputs": [],
   "source": []
  }
 ],
 "metadata": {
  "kernelspec": {
   "display_name": "Python 3 (ipykernel)",
   "language": "python",
   "name": "python3"
  },
  "language_info": {
   "codemirror_mode": {
    "name": "ipython",
    "version": 3
   },
   "file_extension": ".py",
   "mimetype": "text/x-python",
   "name": "python",
   "nbconvert_exporter": "python",
   "pygments_lexer": "ipython3",
   "version": "3.11.6"
  }
 },
 "nbformat": 4,
 "nbformat_minor": 5
}
