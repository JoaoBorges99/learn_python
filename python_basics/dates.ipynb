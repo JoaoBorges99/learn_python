{
 "cells": [
  {
   "cell_type": "code",
   "execution_count": null,
   "id": "e0e9fb05-1813-449c-bf73-a66767d06c82",
   "metadata": {},
   "outputs": [],
   "source": [
    "import datetime\n"
   ]
  },
  {
   "cell_type": "code",
   "execution_count": 9,
   "id": "ea54c0ff-13bd-415f-a311-1bc35ae31841",
   "metadata": {},
   "outputs": [
    {
     "data": {
      "text/plain": [
       "datetime.date(2025, 4, 16)"
      ]
     },
     "execution_count": 9,
     "metadata": {},
     "output_type": "execute_result"
    }
   ],
   "source": [
    "#date\n",
    "data = datetime.date(2025,4,16)\n",
    "data"
   ]
  },
  {
   "cell_type": "code",
   "execution_count": 10,
   "id": "e7e02f1a-b0af-4faf-965a-9e1d3acf41b3",
   "metadata": {},
   "outputs": [
    {
     "data": {
      "text/plain": [
       "datetime.datetime(2025, 4, 16, 8, 11)"
      ]
     },
     "execution_count": 10,
     "metadata": {},
     "output_type": "execute_result"
    }
   ],
   "source": [
    "datahora = datetime.datetime(2025,4,16,8,11)\n",
    "datahora"
   ]
  },
  {
   "cell_type": "code",
   "execution_count": 13,
   "id": "f912108a-4adb-47eb-a59b-391e5d05e8d1",
   "metadata": {},
   "outputs": [
    {
     "data": {
      "text/plain": [
       "datetime.date(2025, 4, 16)"
      ]
     },
     "execution_count": 13,
     "metadata": {},
     "output_type": "execute_result"
    }
   ],
   "source": [
    "dataatual = datetime.date.today()\n",
    "dataatual"
   ]
  },
  {
   "cell_type": "code",
   "execution_count": 15,
   "id": "1fa6ba0b-1226-42ac-af9a-83b65a806d77",
   "metadata": {},
   "outputs": [
    {
     "data": {
      "text/plain": [
       "datetime.datetime(2025, 4, 16, 11, 14, 18, 889987)"
      ]
     },
     "execution_count": 15,
     "metadata": {},
     "output_type": "execute_result"
    }
   ],
   "source": [
    "#agora - datetime.now()\n",
    "\n",
    "agora = datetime.datetime.now()\n",
    "agora"
   ]
  },
  {
   "cell_type": "code",
   "execution_count": 16,
   "id": "3d601036-4a7c-4700-8e89-ae912070f5b4",
   "metadata": {},
   "outputs": [
    {
     "data": {
      "text/plain": [
       "'Agora são 2025-04-16 11:14:18.889987'"
      ]
     },
     "execution_count": 16,
     "metadata": {},
     "output_type": "execute_result"
    }
   ],
   "source": [
    "frase = f\"Agora são {agora}\";\n",
    "frase"
   ]
  },
  {
   "cell_type": "code",
   "execution_count": 19,
   "id": "59e4d2b4-2c81-4798-929b-d28ac36e6d80",
   "metadata": {},
   "outputs": [
    {
     "data": {
      "text/plain": [
       "'16/04/2025'"
      ]
     },
     "execution_count": 19,
     "metadata": {},
     "output_type": "execute_result"
    }
   ],
   "source": [
    "# formatar data\n",
    "\n",
    "agora_format = agora.strftime('%d/%m/%Y')\n",
    "agora_format"
   ]
  },
  {
   "cell_type": "code",
   "execution_count": 20,
   "id": "bd8dc809-cee0-4b9c-87bc-1219a22057f3",
   "metadata": {},
   "outputs": [
    {
     "data": {
      "text/plain": [
       "datetime.datetime(2025, 4, 16, 0, 0)"
      ]
     },
     "execution_count": 20,
     "metadata": {},
     "output_type": "execute_result"
    }
   ],
   "source": [
    "# strptime\n",
    "\n",
    "from datetime import datetime as dt\n",
    "\n",
    "novo_format_data = dt.strptime(agora_format, '%d/%m/%Y')\n",
    "novo_format_data"
   ]
  },
  {
   "cell_type": "code",
   "execution_count": 25,
   "id": "e71ca87f-55f5-4a4b-b134-ed1b89f2f6d0",
   "metadata": {},
   "outputs": [
    {
     "data": {
      "text/plain": [
       "'23/04/2025'"
      ]
     },
     "execution_count": 25,
     "metadata": {},
     "output_type": "execute_result"
    }
   ],
   "source": [
    "agora_somado = agora + datetime.timedelta(days = 7)\n",
    "agora_somado.strftime('%d/%m/%Y')"
   ]
  },
  {
   "cell_type": "code",
   "execution_count": 26,
   "id": "64b6b8e1-6a98-4578-86b7-b266dc30df9c",
   "metadata": {},
   "outputs": [
    {
     "data": {
      "text/plain": [
       "False"
      ]
     },
     "execution_count": 26,
     "metadata": {},
     "output_type": "execute_result"
    }
   ],
   "source": [
    "# comparar data\n",
    "\n",
    "validar_data = agora > agora_somado\n",
    "validar_data\n"
   ]
  }
 ],
 "metadata": {
  "kernelspec": {
   "display_name": "Python 3 (ipykernel)",
   "language": "python",
   "name": "python3"
  },
  "language_info": {
   "codemirror_mode": {
    "name": "ipython",
    "version": 3
   },
   "file_extension": ".py",
   "mimetype": "text/x-python",
   "name": "python",
   "nbconvert_exporter": "python",
   "pygments_lexer": "ipython3",
   "version": "3.11.6"
  }
 },
 "nbformat": 4,
 "nbformat_minor": 5
}
