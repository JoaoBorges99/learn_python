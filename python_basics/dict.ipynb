{
 "cells": [
  {
   "cell_type": "code",
   "execution_count": 1,
   "id": "3ad25140-c331-4efb-a154-48fe0655e835",
   "metadata": {},
   "outputs": [],
   "source": [
    "# dict comprehension"
   ]
  },
  {
   "cell_type": "code",
   "execution_count": 3,
   "id": "a62b0ca9-8f62-4823-a3bf-fa7fac52e239",
   "metadata": {},
   "outputs": [],
   "source": [
    "piloto = {\n",
    "    'class' : 'F1',\n",
    "    'nome' : 'Messi',\n",
    "    'nacionalidade' : 'Brasileiro',\n",
    "    'equipe' : 'Real Madrid'\n",
    "}"
   ]
  },
  {
   "cell_type": "code",
   "execution_count": 11,
   "id": "e386fdec-f3cb-4995-9512-5680b51c1861",
   "metadata": {},
   "outputs": [],
   "source": [
    "piloto_chave = []\n",
    "piloto_valores = []\n",
    "for item, valor in piloto.items():\n",
    "    piloto_chave.append(item.upper())\n",
    "    piloto_valores.append(valor.upper())"
   ]
  },
  {
   "cell_type": "code",
   "execution_count": 8,
   "id": "d05c7f5d-08c7-4b89-a9a1-cc64a2ed2f00",
   "metadata": {},
   "outputs": [
    {
     "data": {
      "text/plain": [
       "['CLASS', 'NOME', 'NACIONALIDADE', 'EQUIPE']"
      ]
     },
     "execution_count": 8,
     "metadata": {},
     "output_type": "execute_result"
    }
   ],
   "source": [
    "piloto_chave"
   ]
  },
  {
   "cell_type": "code",
   "execution_count": 9,
   "id": "28441906-5db0-4379-a8cf-18834f14a4be",
   "metadata": {},
   "outputs": [
    {
     "data": {
      "text/plain": [
       "['F1', 'MESSI', 'BRASILEIRO', 'REAL MADRID']"
      ]
     },
     "execution_count": 9,
     "metadata": {},
     "output_type": "execute_result"
    }
   ],
   "source": [
    "piloto_valores"
   ]
  },
  {
   "cell_type": "code",
   "execution_count": 12,
   "id": "f5bb06c2-5394-4695-8e0e-49b5bac24def",
   "metadata": {},
   "outputs": [
    {
     "data": {
      "text/plain": [
       "{'CLASS': 'F1',\n",
       " 'NOME': 'MESSI',\n",
       " 'NACIONALIDADE': 'BRASILEIRO',\n",
       " 'EQUIPE': 'REAL MADRID'}"
      ]
     },
     "execution_count": 12,
     "metadata": {},
     "output_type": "execute_result"
    }
   ],
   "source": [
    "piloto_upper_comprehension = { chave.upper():valor.upper() for chave, valor in piloto.items()}\n",
    "piloto_upper_comprehension"
   ]
  }
 ],
 "metadata": {
  "kernelspec": {
   "display_name": "Python 3 (ipykernel)",
   "language": "python",
   "name": "python3"
  },
  "language_info": {
   "codemirror_mode": {
    "name": "ipython",
    "version": 3
   },
   "file_extension": ".py",
   "mimetype": "text/x-python",
   "name": "python",
   "nbconvert_exporter": "python",
   "pygments_lexer": "ipython3",
   "version": "3.11.6"
  }
 },
 "nbformat": 4,
 "nbformat_minor": 5
}
