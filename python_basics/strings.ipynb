{
 "cells": [
  {
   "cell_type": "code",
   "execution_count": 2,
   "id": "f970b146-4d58-4f96-81d8-574c4a40f7b3",
   "metadata": {},
   "outputs": [],
   "source": [
    "nome = \"Bob\""
   ]
  },
  {
   "cell_type": "code",
   "execution_count": 3,
   "id": "eb7acfc9-c74b-4e9a-9f06-4d31eb00afbe",
   "metadata": {},
   "outputs": [
    {
     "data": {
      "text/plain": [
       "str"
      ]
     },
     "execution_count": 3,
     "metadata": {},
     "output_type": "execute_result"
    }
   ],
   "source": [
    "type(nome)"
   ]
  },
  {
   "cell_type": "code",
   "execution_count": 4,
   "id": "09127fe7-08bc-47b0-955e-63c25766c218",
   "metadata": {},
   "outputs": [],
   "source": [
    "idade = 20"
   ]
  },
  {
   "cell_type": "code",
   "execution_count": 8,
   "id": "c68ae952-4147-4ade-b164-9ac0b2243933",
   "metadata": {},
   "outputs": [],
   "source": [
    "# format \n",
    "frase_format = \"olá, meu nome é: {} e tenho {} anos\".format(nome,idade)"
   ]
  },
  {
   "cell_type": "code",
   "execution_count": 7,
   "id": "6e9219c0-89c6-4745-a2fb-c201e86f6a29",
   "metadata": {},
   "outputs": [
    {
     "data": {
      "text/plain": [
       "'olá, meu nome é: Bob e tenho 20 anos'"
      ]
     },
     "execution_count": 7,
     "metadata": {},
     "output_type": "execute_result"
    }
   ],
   "source": [
    "frase_format"
   ]
  },
  {
   "cell_type": "code",
   "execution_count": 10,
   "id": "fa3fafa4-1819-4d18-8e0a-edd0c450771f",
   "metadata": {},
   "outputs": [],
   "source": [
    "# f-strings\n",
    "\n",
    "frase_fstring = f\"olá, meu nome é: {nome} e tenho {idade} anos\""
   ]
  },
  {
   "cell_type": "code",
   "execution_count": 11,
   "id": "e4b8d4af-2f01-44b3-af53-58e9b94b468e",
   "metadata": {},
   "outputs": [
    {
     "data": {
      "text/plain": [
       "'olá, meu nome é: Bob e tenho 20 anos'"
      ]
     },
     "execution_count": 11,
     "metadata": {},
     "output_type": "execute_result"
    }
   ],
   "source": [
    "frase_fstring"
   ]
  },
  {
   "cell_type": "code",
   "execution_count": 14,
   "id": "e8e79d2a-183c-4377-a361-e55aafdecb91",
   "metadata": {},
   "outputs": [
    {
     "data": {
      "text/plain": [
       "'SELECT * FROM DUAL;'"
      ]
     },
     "execution_count": 14,
     "metadata": {},
     "output_type": "execute_result"
    }
   ],
   "source": [
    "sql = f\"\"\"SELECT * FROM DUAL;\"\"\"\n",
    "sql"
   ]
  },
  {
   "cell_type": "code",
   "execution_count": 16,
   "id": "1e17809a-4bf4-4416-be77-bee1adbefe48",
   "metadata": {},
   "outputs": [
    {
     "data": {
      "text/plain": [
       "'OLÁ, MEU NOME É: BOB E TENHO 20 ANOS'"
      ]
     },
     "execution_count": 16,
     "metadata": {},
     "output_type": "execute_result"
    }
   ],
   "source": [
    "frase_fstring.upper()"
   ]
  },
  {
   "cell_type": "code",
   "execution_count": 17,
   "id": "27217b69-1cbf-462b-9381-8ea5da8f4ec5",
   "metadata": {},
   "outputs": [
    {
     "data": {
      "text/plain": [
       "'olá, meu nome é: bob e tenho 20 anos'"
      ]
     },
     "execution_count": 17,
     "metadata": {},
     "output_type": "execute_result"
    }
   ],
   "source": [
    "frase_fstring.lower()"
   ]
  },
  {
   "cell_type": "code",
   "execution_count": 23,
   "id": "2f999613-0044-46a4-b285-7ea0b22d1063",
   "metadata": {},
   "outputs": [
    {
     "data": {
      "text/plain": [
       "['olá,', 'meu', 'nome', 'é:', 'Bob', 'e', 'tenho', '20', 'anos']"
      ]
     },
     "execution_count": 23,
     "metadata": {},
     "output_type": "execute_result"
    }
   ],
   "source": [
    "#split\n",
    "frase_fstring.split()"
   ]
  },
  {
   "cell_type": "code",
   "execution_count": 27,
   "id": "f5ab512d-bf5e-49bb-8fdf-7d151a72c249",
   "metadata": {},
   "outputs": [
    {
     "data": {
      "text/plain": [
       "36"
      ]
     },
     "execution_count": 27,
     "metadata": {},
     "output_type": "execute_result"
    }
   ],
   "source": [
    "#length\n",
    "\n",
    "len(frase_fstring)"
   ]
  },
  {
   "cell_type": "code",
   "execution_count": 35,
   "id": "1a445417-7bb2-4d89-a91a-2416a63e8915",
   "metadata": {},
   "outputs": [
    {
     "data": {
      "text/plain": [
       "'olá, meu nome é: Bob e tenho 20 anos'"
      ]
     },
     "execution_count": 35,
     "metadata": {},
     "output_type": "execute_result"
    }
   ],
   "source": [
    "# join\n",
    "\n",
    "nova_frase = \"\".join(frase_fstring)\n",
    "nova_frase"
   ]
  },
  {
   "cell_type": "code",
   "execution_count": 38,
   "id": "bc443806-f6e0-46a8-9432-446668dcdba4",
   "metadata": {},
   "outputs": [
    {
     "data": {
      "text/plain": [
       "False"
      ]
     },
     "execution_count": 38,
     "metadata": {},
     "output_type": "execute_result"
    }
   ],
   "source": [
    "# start with and end with\n",
    "\n",
    "nova_frase.startswith('ola')"
   ]
  },
  {
   "cell_type": "code",
   "execution_count": 37,
   "id": "82b132c1-2600-4122-a21b-30be353ade0f",
   "metadata": {},
   "outputs": [
    {
     "data": {
      "text/plain": [
       "False"
      ]
     },
     "execution_count": 37,
     "metadata": {},
     "output_type": "execute_result"
    }
   ],
   "source": [
    "nova_frase.endswith('benga')"
   ]
  },
  {
   "cell_type": "code",
   "execution_count": 40,
   "id": "40ef4767-03ed-407a-9d0d-a951185c802d",
   "metadata": {},
   "outputs": [
    {
     "data": {
      "text/plain": [
       "True"
      ]
     },
     "execution_count": 40,
     "metadata": {},
     "output_type": "execute_result"
    }
   ],
   "source": [
    "#contains\n",
    "\n",
    "'Bob' in nova_frase"
   ]
  }
 ],
 "metadata": {
  "kernelspec": {
   "display_name": "Python 3 (ipykernel)",
   "language": "python",
   "name": "python3"
  },
  "language_info": {
   "codemirror_mode": {
    "name": "ipython",
    "version": 3
   },
   "file_extension": ".py",
   "mimetype": "text/x-python",
   "name": "python",
   "nbconvert_exporter": "python",
   "pygments_lexer": "ipython3",
   "version": "3.11.6"
  }
 },
 "nbformat": 4,
 "nbformat_minor": 5
}
