{
 "cells": [
  {
   "cell_type": "code",
   "execution_count": 2,
   "id": "46ac8aec-7513-4a10-85f6-e02a59e2da97",
   "metadata": {},
   "outputs": [],
   "source": [
    "# list comprehension\n",
    "\n",
    "numeros = [1,2,3,4,5,6,7,8,9,10]\n",
    "numero_ao_quadrado = []"
   ]
  },
  {
   "cell_type": "code",
   "execution_count": 7,
   "id": "7e868f03-7de6-4429-9e6c-cc0357716207",
   "metadata": {},
   "outputs": [],
   "source": [
    "for num in numeros:\n",
    "    numero_ao_quadrado.append(num ** 2)\n",
    "    "
   ]
  },
  {
   "cell_type": "code",
   "execution_count": 8,
   "id": "305b96bf-d095-45b6-ab47-8116ddbad41d",
   "metadata": {},
   "outputs": [
    {
     "data": {
      "text/plain": [
       "[1, 4, 9, 16, 25, 36, 49, 64, 81, 100]"
      ]
     },
     "execution_count": 8,
     "metadata": {},
     "output_type": "execute_result"
    }
   ],
   "source": [
    "numero_ao_quadrado"
   ]
  },
  {
   "cell_type": "code",
   "execution_count": 13,
   "id": "0f2c2711-dd8d-4549-a3b5-4f8e753fbf07",
   "metadata": {},
   "outputs": [
    {
     "name": "stdout",
     "output_type": "stream",
     "text": [
      "4\n",
      "16\n",
      "36\n",
      "64\n",
      "100\n"
     ]
    }
   ],
   "source": [
    "for num in numero_ao_quadrado:\n",
    "    if num % 2 == 0:\n",
    "        print(num)"
   ]
  },
  {
   "cell_type": "code",
   "execution_count": 14,
   "id": "fdb1965d-7177-4c1e-8678-991a456490ce",
   "metadata": {},
   "outputs": [
    {
     "data": {
      "text/plain": [
       "[1, 4, 9, 16, 25, 36, 49, 64, 81, 100]"
      ]
     },
     "execution_count": 14,
     "metadata": {},
     "output_type": "execute_result"
    }
   ],
   "source": [
    "numeros_quadrado_comprehension = [num ** 2 for num in numeros]\n",
    "numeros_quadrado_comprehension"
   ]
  }
 ],
 "metadata": {
  "kernelspec": {
   "display_name": "Python 3 (ipykernel)",
   "language": "python",
   "name": "python3"
  },
  "language_info": {
   "codemirror_mode": {
    "name": "ipython",
    "version": 3
   },
   "file_extension": ".py",
   "mimetype": "text/x-python",
   "name": "python",
   "nbconvert_exporter": "python",
   "pygments_lexer": "ipython3",
   "version": "3.11.6"
  }
 },
 "nbformat": 4,
 "nbformat_minor": 5
}
