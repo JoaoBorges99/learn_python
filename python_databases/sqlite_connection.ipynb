{
 "cells": [
  {
   "cell_type": "code",
   "execution_count": 1,
   "id": "9ddb38ad-0be1-4995-912d-37ddccfc99b3",
   "metadata": {},
   "outputs": [],
   "source": [
    "import sqlite3"
   ]
  },
  {
   "cell_type": "code",
   "execution_count": 2,
   "id": "f7706252-a7e0-4085-aec6-fb3613d80bf0",
   "metadata": {},
   "outputs": [],
   "source": [
    "conn = sqlite3.connect('./database/sqlite/teste.db')"
   ]
  },
  {
   "cell_type": "code",
   "execution_count": 3,
   "id": "bc4f9f75-8f24-4480-8818-dcaaa2cbe236",
   "metadata": {},
   "outputs": [
    {
     "data": {
      "text/plain": [
       "<sqlite3.Cursor at 0x7fb351a56dc0>"
      ]
     },
     "execution_count": 3,
     "metadata": {},
     "output_type": "execute_result"
    }
   ],
   "source": [
    "conn.execute (\n",
    "    \"\"\"\n",
    "        CREATE TABLE IF NOT EXISTS EMPRESA (\n",
    "            ID INT PRIMARY KEY NOT NULL,\n",
    "            NOME TEXT NOT NULL,\n",
    "            ENDERECO CHAR(50),\n",
    "            LIMITE_CREDITO REAL NOT NULL\n",
    "        );\n",
    "    \"\"\"\n",
    ")"
   ]
  },
  {
   "cell_type": "code",
   "execution_count": 4,
   "id": "e61517fa-87ae-466f-9f51-94b7d03f1c40",
   "metadata": {},
   "outputs": [
    {
     "data": {
      "text/plain": [
       "<sqlite3.Cursor at 0x7fb351a57640>"
      ]
     },
     "execution_count": 4,
     "metadata": {},
     "output_type": "execute_result"
    }
   ],
   "source": [
    "conn.execute(\"\"\"INSERT INTO EMPRESA (ID, NOME, ENDERECO, LIMITE_CREDITO) VALUES (1, 'EMPRESA_A', 'BRAZIL', 235000.00)\"\"\")"
   ]
  },
  {
   "cell_type": "code",
   "execution_count": null,
   "id": "caf42303-3b23-43b3-a8b5-0f15061cdfe7",
   "metadata": {},
   "outputs": [],
   "source": []
  }
 ],
 "metadata": {
  "kernelspec": {
   "display_name": "Python 3 (ipykernel)",
   "language": "python",
   "name": "python3"
  },
  "language_info": {
   "codemirror_mode": {
    "name": "ipython",
    "version": 3
   },
   "file_extension": ".py",
   "mimetype": "text/x-python",
   "name": "python",
   "nbconvert_exporter": "python",
   "pygments_lexer": "ipython3",
   "version": "3.11.6"
  }
 },
 "nbformat": 4,
 "nbformat_minor": 5
}
