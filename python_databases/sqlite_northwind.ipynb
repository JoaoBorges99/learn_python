{
 "cells": [
  {
   "cell_type": "code",
   "execution_count": 1,
   "id": "00ad5d20-9cbd-4f18-98ba-e4f860087529",
   "metadata": {},
   "outputs": [],
   "source": [
    "import sqlite3"
   ]
  },
  {
   "cell_type": "code",
   "execution_count": 2,
   "id": "62d66a72-0131-4fc7-ae45-76f790ade804",
   "metadata": {},
   "outputs": [],
   "source": [
    "from pprint import pprint"
   ]
  },
  {
   "cell_type": "code",
   "execution_count": 3,
   "id": "08d4ce68-4f30-4f1e-9531-22e4154073ab",
   "metadata": {},
   "outputs": [],
   "source": [
    "conn = sqlite3.connect('./database/sqlite/northwind.db')"
   ]
  },
  {
   "cell_type": "code",
   "execution_count": 4,
   "id": "c3f88efe-452c-4742-b206-90cbaaad1537",
   "metadata": {},
   "outputs": [
    {
     "name": "stdout",
     "output_type": "stream",
     "text": [
      "(\"(10248, 'VINET', 5, '2016-07-04', '2016-08-01', '2016-07-16', 3, 32.38, \"\n",
      " \"'Vins et alcools Chevalier', '59 rue de l-Abbaye', 'Reims', 'Western \"\n",
      " \"Europe', '51100', 'France')\")\n",
      "(\"(10249, 'TOMSP', 6, '2016-07-05', '2016-08-16', '2016-07-10', 1, 11.61, \"\n",
      " \"'Toms Spezialitäten', 'Luisenstr. 48', 'Münster', 'Western Europe', '44087', \"\n",
      " \"'Germany')\")\n",
      "(\"(10250, 'HANAR', 4, '2016-07-08', '2016-08-05', '2016-07-12', 2, 65.83, \"\n",
      " \"'Hanari Carnes', 'Rua do Paço, 67', 'Rio de Janeiro', 'South America', \"\n",
      " \"'05454-876', 'Brazil')\")\n",
      "(\"(10251, 'VICTE', 3, '2016-07-08', '2016-08-05', '2016-07-15', 1, 41.34, \"\n",
      " \"'Victuailles en stock', '2, rue du Commerce', 'Lyon', 'Western Europe', \"\n",
      " \"'69004', 'France')\")\n",
      "(\"(10252, 'SUPRD', 4, '2016-07-09', '2016-08-06', '2016-07-11', 2, 51.3, \"\n",
      " \"'Suprêmes délices', 'Boulevard Tirou, 255', 'Charleroi', 'Western Europe', \"\n",
      " \"'B-6000', 'Belgium')\")\n"
     ]
    }
   ],
   "source": [
    "cursor = conn.execute('SELECT * FROM ORDERS LIMIT 5;')\n",
    "for row in cursor:\n",
    "    pprint(f'{row}')\n",
    "\n",
    "conn.close()"
   ]
  }
 ],
 "metadata": {
  "kernelspec": {
   "display_name": "Python 3 (ipykernel)",
   "language": "python",
   "name": "python3"
  },
  "language_info": {
   "codemirror_mode": {
    "name": "ipython",
    "version": 3
   },
   "file_extension": ".py",
   "mimetype": "text/x-python",
   "name": "python",
   "nbconvert_exporter": "python",
   "pygments_lexer": "ipython3",
   "version": "3.11.6"
  }
 },
 "nbformat": 4,
 "nbformat_minor": 5
}
