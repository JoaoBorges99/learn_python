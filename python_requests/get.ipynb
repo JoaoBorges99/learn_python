{
 "cells": [
  {
   "cell_type": "code",
   "execution_count": 1,
   "id": "12db126b-022e-4890-a103-b6b69003ec3b",
   "metadata": {},
   "outputs": [
    {
     "name": "stdout",
     "output_type": "stream",
     "text": [
      "Requirement already satisfied: requests in /opt/conda/lib/python3.11/site-packages (2.31.0)\n",
      "Requirement already satisfied: charset-normalizer<4,>=2 in /opt/conda/lib/python3.11/site-packages (from requests) (3.3.0)\n",
      "Requirement already satisfied: idna<4,>=2.5 in /opt/conda/lib/python3.11/site-packages (from requests) (3.4)\n",
      "Requirement already satisfied: urllib3<3,>=1.21.1 in /opt/conda/lib/python3.11/site-packages (from requests) (2.0.7)\n",
      "Requirement already satisfied: certifi>=2017.4.17 in /opt/conda/lib/python3.11/site-packages (from requests) (2023.7.22)\n"
     ]
    }
   ],
   "source": [
    "!pip install requests"
   ]
  },
  {
   "cell_type": "code",
   "execution_count": 2,
   "id": "4913ff25-501c-41f4-ad26-5ad214f06f20",
   "metadata": {},
   "outputs": [],
   "source": [
    "import requests"
   ]
  },
  {
   "cell_type": "code",
   "execution_count": 3,
   "id": "c069a228-d932-4038-a05f-17b7fdf61b64",
   "metadata": {},
   "outputs": [],
   "source": [
    "url = \"https://gorest.co.in/public/v2/users\""
   ]
  },
  {
   "cell_type": "code",
   "execution_count": 4,
   "id": "b0f65cff-1e86-461f-bd8e-4854c35dfa60",
   "metadata": {},
   "outputs": [],
   "source": [
    "response = requests.get(url)"
   ]
  },
  {
   "cell_type": "code",
   "execution_count": 9,
   "id": "2ef0a20c-544a-405b-a281-06ad8f9c9c92",
   "metadata": {},
   "outputs": [],
   "source": [
    "status_code = response.status_code"
   ]
  },
  {
   "cell_type": "code",
   "execution_count": 11,
   "id": "0e17ae8a-b774-41b3-bc1c-05be41f8be2e",
   "metadata": {},
   "outputs": [
    {
     "name": "stdout",
     "output_type": "stream",
     "text": [
      "[{'id': 7848281, 'name': 'Vasundhara Chaturvedi', 'email': 'vasundhara_chaturvedi@hagenes.test', 'gender': 'male', 'status': 'inactive'}, {'id': 7848278, 'name': 'Gauraang Sethi', 'email': 'gauraang_sethi@skiles.test', 'gender': 'female', 'status': 'active'}, {'id': 7848277, 'name': 'Dharmaketu Trivedi', 'email': 'trivedi_dharmaketu@bechtelar-pagac.test', 'gender': 'female', 'status': 'active'}, {'id': 7848276, 'name': 'Chandan Bandopadhyay Jr.', 'email': 'bandopadhyay_chandan_jr@bayer.example', 'gender': 'male', 'status': 'inactive'}, {'id': 7848275, 'name': 'Mr. Aanand Malik', 'email': 'aanand_malik_mr@erdman.test', 'gender': 'female', 'status': 'active'}, {'id': 7848274, 'name': 'Gov. Bhaumik Dwivedi', 'email': 'gov_bhaumik_dwivedi@turner.example', 'gender': 'male', 'status': 'active'}, {'id': 7848273, 'name': 'Anasooya Devar', 'email': 'anasooya_devar@bashirian-schiller.test', 'gender': 'female', 'status': 'active'}, {'id': 7848272, 'name': 'Aanjaneya Jha III', 'email': 'iii_aanjaneya_jha@mann.test', 'gender': 'male', 'status': 'inactive'}, {'id': 7848271, 'name': 'Deeptiman Desai', 'email': 'desai_deeptiman@johns.example', 'gender': 'male', 'status': 'active'}, {'id': 7848270, 'name': 'Suma Banerjee', 'email': 'suma_banerjee@smith.example', 'gender': 'female', 'status': 'active'}]\n"
     ]
    }
   ],
   "source": [
    "if status_code == 200:\n",
    "    usuarios = response.json()\n",
    "    print(usuarios)\n",
    "else:\n",
    "    print(f\"Algo deu errado: {status_code}\")"
   ]
  }
 ],
 "metadata": {
  "kernelspec": {
   "display_name": "Python 3 (ipykernel)",
   "language": "python",
   "name": "python3"
  },
  "language_info": {
   "codemirror_mode": {
    "name": "ipython",
    "version": 3
   },
   "file_extension": ".py",
   "mimetype": "text/x-python",
   "name": "python",
   "nbconvert_exporter": "python",
   "pygments_lexer": "ipython3",
   "version": "3.11.6"
  }
 },
 "nbformat": 4,
 "nbformat_minor": 5
}
