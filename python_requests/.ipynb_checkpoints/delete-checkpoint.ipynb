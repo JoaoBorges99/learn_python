{
 "cells": [
  {
   "cell_type": "code",
   "execution_count": 1,
   "id": "72a691c0-521a-4429-9341-daef802c09a9",
   "metadata": {},
   "outputs": [],
   "source": [
    "import requests as http"
   ]
  },
  {
   "cell_type": "code",
   "execution_count": 2,
   "id": "7c4e25a6-113e-4d2a-8200-a6b9b3af6827",
   "metadata": {},
   "outputs": [],
   "source": [
    "url = \"https://gorest.co.in/public/v2/users\"\n",
    "token = \"3f902cd581252805e68429f9a3d45bc06da7e3bdc76f0fcbf3d7a86c78a8f8c5\""
   ]
  },
  {
   "cell_type": "code",
   "execution_count": 3,
   "id": "0b000a72-3169-470d-a475-d8fba0c1d249",
   "metadata": {},
   "outputs": [],
   "source": [
    "headers = {\n",
    "    \"Authorization\" : f\"Bearer {token}\"\n",
    "}"
   ]
  },
  {
   "cell_type": "code",
   "execution_count": 4,
   "id": "942317e6-6b91-41e5-af7f-6d86101b6fa8",
   "metadata": {},
   "outputs": [],
   "source": [
    "user_id = \"7852855\"\n",
    "new_url = f\"{url}/{user_id}\""
   ]
  },
  {
   "cell_type": "code",
   "execution_count": 5,
   "id": "2aa8a5f3-4bb3-4526-9f30-0bbfaf80d7b3",
   "metadata": {},
   "outputs": [],
   "source": [
    "dados = {\n",
    "    'id' : user_id\n",
    "}"
   ]
  },
  {
   "cell_type": "code",
   "execution_count": 6,
   "id": "8b386dd1-7e31-47e8-8653-8ca3c4533e35",
   "metadata": {},
   "outputs": [],
   "source": [
    "req_delete = http.delete(new_url, headers=headers, data=dados)"
   ]
  },
  {
   "cell_type": "code",
   "execution_count": 9,
   "id": "b8fc6fa4-afe4-43f4-b4ed-801f54917462",
   "metadata": {},
   "outputs": [
    {
     "data": {
      "text/plain": [
       "204"
      ]
     },
     "execution_count": 9,
     "metadata": {},
     "output_type": "execute_result"
    }
   ],
   "source": [
    "req_delete.status_code"
   ]
  }
 ],
 "metadata": {
  "kernelspec": {
   "display_name": "Python 3 (ipykernel)",
   "language": "python",
   "name": "python3"
  },
  "language_info": {
   "codemirror_mode": {
    "name": "ipython",
    "version": 3
   },
   "file_extension": ".py",
   "mimetype": "text/x-python",
   "name": "python",
   "nbconvert_exporter": "python",
   "pygments_lexer": "ipython3",
   "version": "3.11.6"
  }
 },
 "nbformat": 4,
 "nbformat_minor": 5
}
