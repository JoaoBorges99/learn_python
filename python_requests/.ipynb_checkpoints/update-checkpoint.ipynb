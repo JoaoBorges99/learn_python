{
 "cells": [
  {
   "cell_type": "code",
   "execution_count": 2,
   "id": "cbf86b37-934f-4bf0-a83b-a7bebe5efc5c",
   "metadata": {},
   "outputs": [],
   "source": [
    "import requests"
   ]
  },
  {
   "cell_type": "code",
   "execution_count": 3,
   "id": "896ab046-1afd-4999-814d-bec71b5db0c7",
   "metadata": {},
   "outputs": [],
   "source": [
    "url = \"https://gorest.co.in/public/v2/users\"\n",
    "token = \"3f902cd581252805e68429f9a3d45bc06da7e3bdc76f0fcbf3d7a86c78a8f8c5\""
   ]
  },
  {
   "cell_type": "code",
   "execution_count": 4,
   "id": "6e64dbc0-6444-430e-b271-24dd625d49b8",
   "metadata": {},
   "outputs": [],
   "source": [
    "headers = {\n",
    "    \"Authorization\" : f\"Bearer {token}\"\n",
    "}"
   ]
  },
  {
   "cell_type": "markdown",
   "id": "25a5ec88-0a83-4231-8243-9729b65d626d",
   "metadata": {},
   "source": [
    "## Get"
   ]
  },
  {
   "cell_type": "code",
   "execution_count": 5,
   "id": "eb09fb8b-9386-458d-8bb9-a282f074e35b",
   "metadata": {},
   "outputs": [],
   "source": [
    "user_id = \"7852855\""
   ]
  },
  {
   "cell_type": "code",
   "execution_count": 8,
   "id": "57f3c18e-b4ad-4b98-8eb3-08931090e611",
   "metadata": {},
   "outputs": [],
   "source": [
    "status_user = requests.get(f\"{url}/{user_id}\", headers=headers)"
   ]
  },
  {
   "cell_type": "code",
   "execution_count": 10,
   "id": "ca23ae2e-2400-4d98-a392-28d12d11761c",
   "metadata": {},
   "outputs": [
    {
     "data": {
      "text/plain": [
       "{'id': 7852855,\n",
       " 'name': 'Beluguinha BR',\n",
       " 'email': 'bbr@yahoo.com.br',\n",
       " 'gender': 'male',\n",
       " 'status': 'active'}"
      ]
     },
     "execution_count": 10,
     "metadata": {},
     "output_type": "execute_result"
    }
   ],
   "source": [
    "status_user.json()"
   ]
  },
  {
   "cell_type": "markdown",
   "id": "97eef40f-b697-4e07-b72f-8fab41d84aef",
   "metadata": {},
   "source": [
    "## Update"
   ]
  },
  {
   "cell_type": "code",
   "execution_count": 11,
   "id": "b0c2de9b-88eb-4a7f-ad6c-fefc11becde1",
   "metadata": {},
   "outputs": [],
   "source": [
    "dados = {\n",
    "    'id' : user_id,\n",
    "    'status' : 'inactive'\n",
    "}"
   ]
  },
  {
   "cell_type": "code",
   "execution_count": 12,
   "id": "44e8aed5-9b79-41df-85d6-c4b1a158e2be",
   "metadata": {},
   "outputs": [],
   "source": [
    "update_request = requests.patch(f\"{url}/{user_id}\", headers=headers, data=dados)"
   ]
  },
  {
   "cell_type": "code",
   "execution_count": 14,
   "id": "4294a9af-d974-4684-a4c2-e323e2889ea9",
   "metadata": {},
   "outputs": [
    {
     "data": {
      "text/plain": [
       "{'status': 'inactive',\n",
       " 'id': 7852855,\n",
       " 'name': 'Beluguinha BR',\n",
       " 'email': 'bbr@yahoo.com.br',\n",
       " 'gender': 'male'}"
      ]
     },
     "execution_count": 14,
     "metadata": {},
     "output_type": "execute_result"
    }
   ],
   "source": [
    "update_request.json()"
   ]
  }
 ],
 "metadata": {
  "kernelspec": {
   "display_name": "Python 3 (ipykernel)",
   "language": "python",
   "name": "python3"
  },
  "language_info": {
   "codemirror_mode": {
    "name": "ipython",
    "version": 3
   },
   "file_extension": ".py",
   "mimetype": "text/x-python",
   "name": "python",
   "nbconvert_exporter": "python",
   "pygments_lexer": "ipython3",
   "version": "3.11.6"
  }
 },
 "nbformat": 4,
 "nbformat_minor": 5
}
