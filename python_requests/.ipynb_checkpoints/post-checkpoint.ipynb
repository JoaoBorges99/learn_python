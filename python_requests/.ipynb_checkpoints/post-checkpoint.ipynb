{
 "cells": [
  {
   "cell_type": "code",
   "execution_count": 1,
   "id": "cedec170-a660-4afd-b526-3206845c7e10",
   "metadata": {},
   "outputs": [],
   "source": [
    "import requests"
   ]
  },
  {
   "cell_type": "code",
   "execution_count": 2,
   "id": "f9d84d13-1881-450a-8d7b-7c1cecaafc6f",
   "metadata": {},
   "outputs": [],
   "source": [
    "url = \"https://gorest.co.in/public/v2/users\"\n",
    "token = \"3f902cd581252805e68429f9a3d45bc06da7e3bdc76f0fcbf3d7a86c78a8f8c5\""
   ]
  },
  {
   "cell_type": "code",
   "execution_count": 3,
   "id": "75969b76-b0c9-44ba-8303-ed9a01200ce5",
   "metadata": {},
   "outputs": [],
   "source": [
    "headers = {\n",
    "    \"Authorization\" : f\"Bearer {token}\"\n",
    "}"
   ]
  },
  {
   "cell_type": "code",
   "execution_count": 5,
   "id": "a780f3d6-7fbf-43df-a9f6-319a69efed7e",
   "metadata": {},
   "outputs": [],
   "source": [
    "dados = {\n",
    "    \"name\" : \"Beluguinha BR\",\n",
    "    \"gender\" : \"Male\",\n",
    "    \"email\" : \"bbr@yahoo.com.br\",\n",
    "    \"status\" : \"active\"\n",
    "}"
   ]
  },
  {
   "cell_type": "code",
   "execution_count": 7,
   "id": "cdb37d03-cd59-48b0-be47-0df7e25df000",
   "metadata": {},
   "outputs": [],
   "source": [
    "resposta = requests.post(url, headers=headers, data=dados)"
   ]
  },
  {
   "cell_type": "code",
   "execution_count": 8,
   "id": "1a7d62a3-be63-422a-9267-5da381c551ef",
   "metadata": {},
   "outputs": [
    {
     "data": {
      "text/plain": [
       "201"
      ]
     },
     "execution_count": 8,
     "metadata": {},
     "output_type": "execute_result"
    }
   ],
   "source": [
    "resposta.status_code"
   ]
  },
  {
   "cell_type": "code",
   "execution_count": 9,
   "id": "ba0a3288-0c90-4c9e-866e-e5aefc37c9cb",
   "metadata": {},
   "outputs": [],
   "source": [
    "user = resposta.json()"
   ]
  },
  {
   "cell_type": "code",
   "execution_count": 10,
   "id": "1ab39959-79cb-48a3-a334-66eedea20696",
   "metadata": {},
   "outputs": [
    {
     "data": {
      "text/plain": [
       "{'id': 7852855,\n",
       " 'name': 'Beluguinha BR',\n",
       " 'email': 'bbr@yahoo.com.br',\n",
       " 'gender': 'male',\n",
       " 'status': 'active'}"
      ]
     },
     "execution_count": 10,
     "metadata": {},
     "output_type": "execute_result"
    }
   ],
   "source": [
    "user"
   ]
  },
  {
   "cell_type": "code",
   "execution_count": 11,
   "id": "d398990a-15bd-427a-ad76-88552a36c2ac",
   "metadata": {},
   "outputs": [],
   "source": [
    "user_id = \"7852855\""
   ]
  }
 ],
 "metadata": {
  "kernelspec": {
   "display_name": "Python 3 (ipykernel)",
   "language": "python",
   "name": "python3"
  },
  "language_info": {
   "codemirror_mode": {
    "name": "ipython",
    "version": 3
   },
   "file_extension": ".py",
   "mimetype": "text/x-python",
   "name": "python",
   "nbconvert_exporter": "python",
   "pygments_lexer": "ipython3",
   "version": "3.11.6"
  }
 },
 "nbformat": 4,
 "nbformat_minor": 5
}
